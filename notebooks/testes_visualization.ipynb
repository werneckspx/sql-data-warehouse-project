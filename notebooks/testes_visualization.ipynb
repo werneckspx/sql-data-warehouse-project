{
 "cells": [
  {
   "cell_type": "code",
   "execution_count": null,
   "id": "934cbe4c",
   "metadata": {},
   "outputs": [
    {
     "name": "stdout",
     "output_type": "stream",
     "text": [
      "Carregando dados da camada Gold...\n",
      "Dados da camada Gold carregados com sucesso!\n",
      "Shape df_customers: (18484, 10)\n",
      "Shape df_products: (295, 11)\n",
      "Shape df_sales: (60398, 9)\n",
      "\n",
      "Primeiras 5 linhas do DataFrame de Vendas:\n",
      "  order_number  product_key  customer_key  order_date shipping_date  \\\n",
      "0      SO43697           20         10769  2010-12-29    2011-01-05   \n",
      "1      SO43698            9         17390  2010-12-29    2011-01-05   \n",
      "2      SO43699            9         14864  2010-12-29    2011-01-05   \n",
      "3      SO43700           41          3502  2010-12-29    2011-01-05   \n",
      "4      SO43701            9             4  2010-12-29    2011-01-05   \n",
      "\n",
      "     due_date  sales_amount  quantity  sls_price  \n",
      "0  2011-01-10          3578         1       3578  \n",
      "1  2011-01-10          3400         1       3400  \n",
      "2  2011-01-10          3400         1       3400  \n",
      "3  2011-01-10           699         1        699  \n",
      "4  2011-01-10          3400         1       3400  \n",
      "\n",
      "Primeiras 5 linhas do DataFrame de Clientes:\n",
      "   customer_key  customer_id customer_number first_name last_name    country  \\\n",
      "0             1        11000      AW00011000        Jon      Yang  Australia   \n",
      "1             2        11001      AW00011001     Eugene     Huang  Australia   \n",
      "2             3        11002      AW00011002      Ruben    Torres  Australia   \n",
      "3             4        11003      AW00011003    Christy       Zhu  Australia   \n",
      "4             5        11004      AW00011004  Elizabeth   Johnson  Australia   \n",
      "\n",
      "  marital_status  gender   birthdate create_date  \n",
      "0        Married    Male  1971-10-06  2025-10-06  \n",
      "1         Single    Male  1976-05-10  2025-10-06  \n",
      "2        Married    Male  1971-02-09  2025-10-06  \n",
      "3         Single  Female  1973-08-14  2025-10-06  \n",
      "4         Single  Female  1979-08-05  2025-10-06  \n",
      "\n",
      "Primeiras 5 linhas do DataFrame de Produtos:\n",
      "   product_key  product_id product_number               product_name  \\\n",
      "0            1         210     FR-R92B-58  HL Road Frame - Black- 58   \n",
      "1            2         211     FR-R92R-58    HL Road Frame - Red- 58   \n",
      "2            3         348     BK-M82B-38     Mountain-100 Black- 38   \n",
      "3            4         349     BK-M82B-42     Mountain-100 Black- 42   \n",
      "4            5         350     BK-M82B-44     Mountain-100 Black- 44   \n",
      "\n",
      "  category_id    category     subcategory maintenance  product_cost  \\\n",
      "0       CO_RF  Components     Road Frames         Yes             0   \n",
      "1       CO_RF  Components     Road Frames         Yes             0   \n",
      "2       BI_MB       Bikes  Mountain Bikes         Yes          1898   \n",
      "3       BI_MB       Bikes  Mountain Bikes         Yes          1898   \n",
      "4       BI_MB       Bikes  Mountain Bikes         Yes          1898   \n",
      "\n",
      "  product_line  start_date  \n",
      "0         Road  2003-07-01  \n",
      "1         Road  2003-07-01  \n",
      "2     Mountain  2011-07-01  \n",
      "3     Mountain  2011-07-01  \n",
      "4     Mountain  2011-07-01  \n",
      "Conexão com o banco de dados encerrada no notebook.\n"
     ]
    }
   ],
   "source": [
    "import sys\n",
    "import os\n",
    "\n",
    "sys.path.append(os.path.abspath(os.path.join(os.getcwd(), '../src')))\n",
    "\n",
    "from data_loader import get_db_engine, load_gold_data\n",
    "\n",
    "engine = get_db_engine()\n",
    "\n",
    "try:\n",
    "    gold_data = load_gold_data(engine)\n",
    "    df_customers = gold_data['customers']\n",
    "    df_products = gold_data['products']\n",
    "    df_sales = gold_data['sales']\n",
    "\n",
    "    print(\"\\nPrimeiras 5 linhas do DataFrame de Vendas:\")\n",
    "    print(df_sales.head())\n",
    "    print(\"\\nPrimeiras 5 linhas do DataFrame de Clientes:\")\n",
    "    print(df_customers.head())\n",
    "    print(\"\\nPrimeiras 5 linhas do DataFrame de Produtos:\")\n",
    "    print(df_products.head())\n",
    "\n",
    "except Exception as e:\n",
    "    print(f\"Não foi possível carregar os dados: {e}\")\n",
    "finally:\n",
    "    engine.dispose()\n",
    "    print(\"Conexão com o banco de dados encerrada no notebook.\")"
   ]
  },
  {
   "cell_type": "code",
   "execution_count": null,
   "id": "3c2813c8",
   "metadata": {},
   "outputs": [
    {
     "name": "stdout",
     "output_type": "stream",
     "text": [
      "\n",
      "Head de sales_with_products:\n",
      "  order_number  product_key  customer_key order_date shipping_date   due_date  \\\n",
      "0      SO43697           20         10769 2010-12-29    2011-01-05 2011-01-10   \n",
      "1      SO43698            9         17390 2010-12-29    2011-01-05 2011-01-10   \n",
      "2      SO43699            9         14864 2010-12-29    2011-01-05 2011-01-10   \n",
      "3      SO43700           41          3502 2010-12-29    2011-01-05 2011-01-10   \n",
      "4      SO43701            9             4 2010-12-29    2011-01-05 2011-01-10   \n",
      "\n",
      "   sales_amount  quantity  sls_price  product_id product_number  \\\n",
      "0          3578         1       3578         310     BK-R93R-62   \n",
      "1          3400         1       3400         346     BK-M82S-44   \n",
      "2          3400         1       3400         346     BK-M82S-44   \n",
      "3           699         1        699         337     BK-R50B-62   \n",
      "4          3400         1       3400         346     BK-M82S-44   \n",
      "\n",
      "              product_name category_id category     subcategory maintenance  \\\n",
      "0         Road-150 Red- 62       BI_RB    Bikes      Road Bikes         Yes   \n",
      "1  Mountain-100 Silver- 44       BI_MB    Bikes  Mountain Bikes         Yes   \n",
      "2  Mountain-100 Silver- 44       BI_MB    Bikes  Mountain Bikes         Yes   \n",
      "3       Road-650 Black- 62       BI_RB    Bikes      Road Bikes         Yes   \n",
      "4  Mountain-100 Silver- 44       BI_MB    Bikes  Mountain Bikes         Yes   \n",
      "\n",
      "   product_cost product_line start_date  \n",
      "0          2171         Road 2011-07-01  \n",
      "1          1912     Mountain 2011-07-01  \n",
      "2          1912     Mountain 2011-07-01  \n",
      "3           487         Road 2012-07-01  \n",
      "4          1912     Mountain 2011-07-01  \n",
      "Shape: (60398, 19)\n",
      "\n",
      "Head de full_sales_data:\n",
      "  order_number  product_key  customer_key order_date shipping_date   due_date  \\\n",
      "0      SO43697           20         10769 2010-12-29    2011-01-05 2011-01-10   \n",
      "1      SO43698            9         17390 2010-12-29    2011-01-05 2011-01-10   \n",
      "2      SO43699            9         14864 2010-12-29    2011-01-05 2011-01-10   \n",
      "3      SO43700           41          3502 2010-12-29    2011-01-05 2011-01-10   \n",
      "4      SO43701            9             4 2010-12-29    2011-01-05 2011-01-10   \n",
      "\n",
      "   sales_amount  quantity  sls_price  product_id  ... start_date customer_id  \\\n",
      "0          3578         1       3578         310  ... 2011-07-01       21768   \n",
      "1          3400         1       3400         346  ... 2011-07-01       28389   \n",
      "2          3400         1       3400         346  ... 2011-07-01       25863   \n",
      "3           699         1        699         337  ... 2012-07-01       14501   \n",
      "4          3400         1       3400         346  ... 2011-07-01       11003   \n",
      "\n",
      "  customer_number first_name last_name        country  marital_status  gender  \\\n",
      "0      AW00021768       Cole    Watson         Canada          Single    Male   \n",
      "1      AW00028389    Rachael  Martinez         France          Single  Female   \n",
      "2      AW00025863     Sydney    Wright  United States          Single  Female   \n",
      "3      AW00014501      Ruben    Prasad  United States         Married    Male   \n",
      "4      AW00011003    Christy       Zhu      Australia          Single  Female   \n",
      "\n",
      "   birthdate  create_date  \n",
      "0 1952-02-19   2026-01-05  \n",
      "1 1970-06-17   2026-01-25  \n",
      "2 1952-06-01   2026-01-14  \n",
      "3 1943-11-10   2025-10-12  \n",
      "4 1973-08-14   2025-10-06  \n",
      "\n",
      "[5 rows x 28 columns]\n",
      "Shape: (60398, 28)\n"
     ]
    },
    {
     "data": {
      "application/vnd.plotly.v1+json": {
       "config": {
        "plotlyServerURL": "https://plot.ly"
       },
       "data": [
        {
         "hovertemplate": "Linha de Produto=Mountain<br>Data do Pedido=%{x}<br>Total de Vendas=%{y}<extra></extra>",
         "legendgroup": "Mountain",
         "line": {
          "color": "#636efa",
          "dash": "solid"
         },
         "marker": {
          "symbol": "circle"
         },
         "mode": "lines",
         "name": "Mountain",
         "orientation": "v",
         "showlegend": true,
         "type": "scatter",
         "x": [
          "2010-12-31T00:00:00",
          "2011-01-31T00:00:00",
          "2011-02-28T00:00:00",
          "2011-03-31T00:00:00",
          "2011-04-30T00:00:00",
          "2011-05-31T00:00:00",
          "2011-06-30T00:00:00",
          "2011-07-31T00:00:00",
          "2011-08-31T00:00:00",
          "2011-09-30T00:00:00",
          "2011-10-31T00:00:00",
          "2011-11-30T00:00:00",
          "2011-12-31T00:00:00",
          "2012-01-31T00:00:00",
          "2012-02-29T00:00:00",
          "2012-03-31T00:00:00",
          "2012-04-30T00:00:00",
          "2012-05-31T00:00:00",
          "2012-06-30T00:00:00",
          "2012-07-31T00:00:00",
          "2012-08-31T00:00:00",
          "2012-09-30T00:00:00",
          "2012-10-31T00:00:00",
          "2012-11-30T00:00:00",
          "2012-12-31T00:00:00",
          "2013-01-31T00:00:00",
          "2013-02-28T00:00:00",
          "2013-03-31T00:00:00",
          "2013-04-30T00:00:00",
          "2013-05-31T00:00:00",
          "2013-06-30T00:00:00",
          "2013-07-31T00:00:00",
          "2013-08-31T00:00:00",
          "2013-09-30T00:00:00",
          "2013-10-31T00:00:00",
          "2013-11-30T00:00:00",
          "2013-12-31T00:00:00",
          "2014-01-31T00:00:00"
         ],
         "xaxis": "x",
         "y": {
          "bdata": "T0IAAFNlAQDgjAEAjLkAANlXAQDqtAEAJvYBAF7cAQCjFQEAjekBAOgQAgBNYAIAJVkCABqyAQCm8gEAVXoBAC8bAgBtigEAeHQDACf8AgAAlQMA90wDADm+AwAj/QMA/bcEANOUBQAkjgQAOLUGAJ49BgBXtwcAFcwJAIeKCAANZQkAzMcIAFDmCQDvsQsAuxQMAEs5AAA=",
          "dtype": "i4"
         },
         "yaxis": "y"
        },
        {
         "hovertemplate": "Linha de Produto=Road<br>Data do Pedido=%{x}<br>Total de Vendas=%{y}<extra></extra>",
         "legendgroup": "Road",
         "line": {
          "color": "#EF553B",
          "dash": "solid"
         },
         "marker": {
          "symbol": "circle"
         },
         "mode": "lines",
         "name": "Road",
         "orientation": "v",
         "showlegend": true,
         "type": "scatter",
         "x": [
          "2010-12-31T00:00:00",
          "2011-01-31T00:00:00",
          "2011-02-28T00:00:00",
          "2011-03-31T00:00:00",
          "2011-04-30T00:00:00",
          "2011-05-31T00:00:00",
          "2011-06-30T00:00:00",
          "2011-07-31T00:00:00",
          "2011-08-31T00:00:00",
          "2011-09-30T00:00:00",
          "2011-10-31T00:00:00",
          "2011-11-30T00:00:00",
          "2011-12-31T00:00:00",
          "2012-01-31T00:00:00",
          "2012-02-29T00:00:00",
          "2012-03-31T00:00:00",
          "2012-04-30T00:00:00",
          "2012-05-31T00:00:00",
          "2012-06-30T00:00:00",
          "2012-07-31T00:00:00",
          "2012-08-31T00:00:00",
          "2012-09-30T00:00:00",
          "2012-10-31T00:00:00",
          "2012-11-30T00:00:00",
          "2012-12-31T00:00:00",
          "2013-01-31T00:00:00",
          "2013-02-28T00:00:00",
          "2013-03-31T00:00:00",
          "2013-04-30T00:00:00",
          "2013-05-31T00:00:00",
          "2013-06-30T00:00:00",
          "2013-07-31T00:00:00",
          "2013-08-31T00:00:00",
          "2013-09-30T00:00:00",
          "2013-10-31T00:00:00",
          "2013-11-30T00:00:00",
          "2013-12-31T00:00:00",
          "2014-01-31T00:00:00"
         ],
         "xaxis": "x",
         "y": {
          "bdata": "TGcAANDFBQCjkAUAoa0GAEFRBgAF3QYA20sJAIg+BwDRSggAGkoHAFy9CADOswcArt0HAOncBQDKyQUAkTgEAJUABABl7wMADgQFAE7MAwBvaQQADh4EABxsBAAbOAQAqXQEABdGBQArhAQAfsEFAPtaBQBNiQYAEygIAGlIBgBOYQcA97wGAEUXCAAINwgAynkIAKQRAAA=",
          "dtype": "i4"
         },
         "yaxis": "y"
        },
        {
         "hovertemplate": "Linha de Produto=Other Sales<br>Data do Pedido=%{x}<br>Total de Vendas=%{y}<extra></extra>",
         "legendgroup": "Other Sales",
         "line": {
          "color": "#00cc96",
          "dash": "solid"
         },
         "marker": {
          "symbol": "circle"
         },
         "mode": "lines",
         "name": "Other Sales",
         "orientation": "v",
         "showlegend": true,
         "type": "scatter",
         "x": [
          "2012-12-31T00:00:00",
          "2013-01-31T00:00:00",
          "2013-02-28T00:00:00",
          "2013-03-31T00:00:00",
          "2013-04-30T00:00:00",
          "2013-05-31T00:00:00",
          "2013-06-30T00:00:00",
          "2013-07-31T00:00:00",
          "2013-08-31T00:00:00",
          "2013-09-30T00:00:00",
          "2013-10-31T00:00:00",
          "2013-11-30T00:00:00",
          "2013-12-31T00:00:00",
          "2014-01-31T00:00:00"
         ],
         "xaxis": "x",
         "y": {
          "bdata": "zgYAAM1EAAD5kQAAx7YAADWmAAAGuQAAz9AAAKTFAACGzQAAgccAAF7fAAC35QAApe8AABJgAAA=",
          "dtype": "i4"
         },
         "yaxis": "y"
        },
        {
         "hovertemplate": "Linha de Produto=Touring<br>Data do Pedido=%{x}<br>Total de Vendas=%{y}<extra></extra>",
         "legendgroup": "Touring",
         "line": {
          "color": "#ab63fa",
          "dash": "solid"
         },
         "marker": {
          "symbol": "circle"
         },
         "mode": "lines",
         "name": "Touring",
         "orientation": "v",
         "showlegend": true,
         "type": "scatter",
         "x": [
          "2012-12-31T00:00:00",
          "2013-01-31T00:00:00",
          "2013-02-28T00:00:00",
          "2013-03-31T00:00:00",
          "2013-04-30T00:00:00",
          "2013-05-31T00:00:00",
          "2013-06-30T00:00:00",
          "2013-07-31T00:00:00",
          "2013-08-31T00:00:00",
          "2013-09-30T00:00:00",
          "2013-10-31T00:00:00",
          "2013-11-30T00:00:00",
          "2013-12-31T00:00:00",
          "2014-01-31T00:00:00"
         ],
         "xaxis": "x",
         "y": {
          "bdata": "0lMAAOf2AQBKIAIAB9cCAJa2AwC+nwQAzUwGADdVBQDVAgYAWMkFADqrBgAiXQYAphoHAEkHAAA=",
          "dtype": "i4"
         },
         "yaxis": "y"
        }
       ],
       "layout": {
        "legend": {
         "title": {
          "text": "Linha de Produto"
         },
         "tracegroupgap": 0
        },
        "template": {
         "data": {
          "bar": [
           {
            "error_x": {
             "color": "#2a3f5f"
            },
            "error_y": {
             "color": "#2a3f5f"
            },
            "marker": {
             "line": {
              "color": "#E5ECF6",
              "width": 0.5
             },
             "pattern": {
              "fillmode": "overlay",
              "size": 10,
              "solidity": 0.2
             }
            },
            "type": "bar"
           }
          ],
          "barpolar": [
           {
            "marker": {
             "line": {
              "color": "#E5ECF6",
              "width": 0.5
             },
             "pattern": {
              "fillmode": "overlay",
              "size": 10,
              "solidity": 0.2
             }
            },
            "type": "barpolar"
           }
          ],
          "carpet": [
           {
            "aaxis": {
             "endlinecolor": "#2a3f5f",
             "gridcolor": "white",
             "linecolor": "white",
             "minorgridcolor": "white",
             "startlinecolor": "#2a3f5f"
            },
            "baxis": {
             "endlinecolor": "#2a3f5f",
             "gridcolor": "white",
             "linecolor": "white",
             "minorgridcolor": "white",
             "startlinecolor": "#2a3f5f"
            },
            "type": "carpet"
           }
          ],
          "choropleth": [
           {
            "colorbar": {
             "outlinewidth": 0,
             "ticks": ""
            },
            "type": "choropleth"
           }
          ],
          "contour": [
           {
            "colorbar": {
             "outlinewidth": 0,
             "ticks": ""
            },
            "colorscale": [
             [
              0,
              "#0d0887"
             ],
             [
              0.1111111111111111,
              "#46039f"
             ],
             [
              0.2222222222222222,
              "#7201a8"
             ],
             [
              0.3333333333333333,
              "#9c179e"
             ],
             [
              0.4444444444444444,
              "#bd3786"
             ],
             [
              0.5555555555555556,
              "#d8576b"
             ],
             [
              0.6666666666666666,
              "#ed7953"
             ],
             [
              0.7777777777777778,
              "#fb9f3a"
             ],
             [
              0.8888888888888888,
              "#fdca26"
             ],
             [
              1,
              "#f0f921"
             ]
            ],
            "type": "contour"
           }
          ],
          "contourcarpet": [
           {
            "colorbar": {
             "outlinewidth": 0,
             "ticks": ""
            },
            "type": "contourcarpet"
           }
          ],
          "heatmap": [
           {
            "colorbar": {
             "outlinewidth": 0,
             "ticks": ""
            },
            "colorscale": [
             [
              0,
              "#0d0887"
             ],
             [
              0.1111111111111111,
              "#46039f"
             ],
             [
              0.2222222222222222,
              "#7201a8"
             ],
             [
              0.3333333333333333,
              "#9c179e"
             ],
             [
              0.4444444444444444,
              "#bd3786"
             ],
             [
              0.5555555555555556,
              "#d8576b"
             ],
             [
              0.6666666666666666,
              "#ed7953"
             ],
             [
              0.7777777777777778,
              "#fb9f3a"
             ],
             [
              0.8888888888888888,
              "#fdca26"
             ],
             [
              1,
              "#f0f921"
             ]
            ],
            "type": "heatmap"
           }
          ],
          "histogram": [
           {
            "marker": {
             "pattern": {
              "fillmode": "overlay",
              "size": 10,
              "solidity": 0.2
             }
            },
            "type": "histogram"
           }
          ],
          "histogram2d": [
           {
            "colorbar": {
             "outlinewidth": 0,
             "ticks": ""
            },
            "colorscale": [
             [
              0,
              "#0d0887"
             ],
             [
              0.1111111111111111,
              "#46039f"
             ],
             [
              0.2222222222222222,
              "#7201a8"
             ],
             [
              0.3333333333333333,
              "#9c179e"
             ],
             [
              0.4444444444444444,
              "#bd3786"
             ],
             [
              0.5555555555555556,
              "#d8576b"
             ],
             [
              0.6666666666666666,
              "#ed7953"
             ],
             [
              0.7777777777777778,
              "#fb9f3a"
             ],
             [
              0.8888888888888888,
              "#fdca26"
             ],
             [
              1,
              "#f0f921"
             ]
            ],
            "type": "histogram2d"
           }
          ],
          "histogram2dcontour": [
           {
            "colorbar": {
             "outlinewidth": 0,
             "ticks": ""
            },
            "colorscale": [
             [
              0,
              "#0d0887"
             ],
             [
              0.1111111111111111,
              "#46039f"
             ],
             [
              0.2222222222222222,
              "#7201a8"
             ],
             [
              0.3333333333333333,
              "#9c179e"
             ],
             [
              0.4444444444444444,
              "#bd3786"
             ],
             [
              0.5555555555555556,
              "#d8576b"
             ],
             [
              0.6666666666666666,
              "#ed7953"
             ],
             [
              0.7777777777777778,
              "#fb9f3a"
             ],
             [
              0.8888888888888888,
              "#fdca26"
             ],
             [
              1,
              "#f0f921"
             ]
            ],
            "type": "histogram2dcontour"
           }
          ],
          "mesh3d": [
           {
            "colorbar": {
             "outlinewidth": 0,
             "ticks": ""
            },
            "type": "mesh3d"
           }
          ],
          "parcoords": [
           {
            "line": {
             "colorbar": {
              "outlinewidth": 0,
              "ticks": ""
             }
            },
            "type": "parcoords"
           }
          ],
          "pie": [
           {
            "automargin": true,
            "type": "pie"
           }
          ],
          "scatter": [
           {
            "fillpattern": {
             "fillmode": "overlay",
             "size": 10,
             "solidity": 0.2
            },
            "type": "scatter"
           }
          ],
          "scatter3d": [
           {
            "line": {
             "colorbar": {
              "outlinewidth": 0,
              "ticks": ""
             }
            },
            "marker": {
             "colorbar": {
              "outlinewidth": 0,
              "ticks": ""
             }
            },
            "type": "scatter3d"
           }
          ],
          "scattercarpet": [
           {
            "marker": {
             "colorbar": {
              "outlinewidth": 0,
              "ticks": ""
             }
            },
            "type": "scattercarpet"
           }
          ],
          "scattergeo": [
           {
            "marker": {
             "colorbar": {
              "outlinewidth": 0,
              "ticks": ""
             }
            },
            "type": "scattergeo"
           }
          ],
          "scattergl": [
           {
            "marker": {
             "colorbar": {
              "outlinewidth": 0,
              "ticks": ""
             }
            },
            "type": "scattergl"
           }
          ],
          "scattermap": [
           {
            "marker": {
             "colorbar": {
              "outlinewidth": 0,
              "ticks": ""
             }
            },
            "type": "scattermap"
           }
          ],
          "scattermapbox": [
           {
            "marker": {
             "colorbar": {
              "outlinewidth": 0,
              "ticks": ""
             }
            },
            "type": "scattermapbox"
           }
          ],
          "scatterpolar": [
           {
            "marker": {
             "colorbar": {
              "outlinewidth": 0,
              "ticks": ""
             }
            },
            "type": "scatterpolar"
           }
          ],
          "scatterpolargl": [
           {
            "marker": {
             "colorbar": {
              "outlinewidth": 0,
              "ticks": ""
             }
            },
            "type": "scatterpolargl"
           }
          ],
          "scatterternary": [
           {
            "marker": {
             "colorbar": {
              "outlinewidth": 0,
              "ticks": ""
             }
            },
            "type": "scatterternary"
           }
          ],
          "surface": [
           {
            "colorbar": {
             "outlinewidth": 0,
             "ticks": ""
            },
            "colorscale": [
             [
              0,
              "#0d0887"
             ],
             [
              0.1111111111111111,
              "#46039f"
             ],
             [
              0.2222222222222222,
              "#7201a8"
             ],
             [
              0.3333333333333333,
              "#9c179e"
             ],
             [
              0.4444444444444444,
              "#bd3786"
             ],
             [
              0.5555555555555556,
              "#d8576b"
             ],
             [
              0.6666666666666666,
              "#ed7953"
             ],
             [
              0.7777777777777778,
              "#fb9f3a"
             ],
             [
              0.8888888888888888,
              "#fdca26"
             ],
             [
              1,
              "#f0f921"
             ]
            ],
            "type": "surface"
           }
          ],
          "table": [
           {
            "cells": {
             "fill": {
              "color": "#EBF0F8"
             },
             "line": {
              "color": "white"
             }
            },
            "header": {
             "fill": {
              "color": "#C8D4E3"
             },
             "line": {
              "color": "white"
             }
            },
            "type": "table"
           }
          ]
         },
         "layout": {
          "annotationdefaults": {
           "arrowcolor": "#2a3f5f",
           "arrowhead": 0,
           "arrowwidth": 1
          },
          "autotypenumbers": "strict",
          "coloraxis": {
           "colorbar": {
            "outlinewidth": 0,
            "ticks": ""
           }
          },
          "colorscale": {
           "diverging": [
            [
             0,
             "#8e0152"
            ],
            [
             0.1,
             "#c51b7d"
            ],
            [
             0.2,
             "#de77ae"
            ],
            [
             0.3,
             "#f1b6da"
            ],
            [
             0.4,
             "#fde0ef"
            ],
            [
             0.5,
             "#f7f7f7"
            ],
            [
             0.6,
             "#e6f5d0"
            ],
            [
             0.7,
             "#b8e186"
            ],
            [
             0.8,
             "#7fbc41"
            ],
            [
             0.9,
             "#4d9221"
            ],
            [
             1,
             "#276419"
            ]
           ],
           "sequential": [
            [
             0,
             "#0d0887"
            ],
            [
             0.1111111111111111,
             "#46039f"
            ],
            [
             0.2222222222222222,
             "#7201a8"
            ],
            [
             0.3333333333333333,
             "#9c179e"
            ],
            [
             0.4444444444444444,
             "#bd3786"
            ],
            [
             0.5555555555555556,
             "#d8576b"
            ],
            [
             0.6666666666666666,
             "#ed7953"
            ],
            [
             0.7777777777777778,
             "#fb9f3a"
            ],
            [
             0.8888888888888888,
             "#fdca26"
            ],
            [
             1,
             "#f0f921"
            ]
           ],
           "sequentialminus": [
            [
             0,
             "#0d0887"
            ],
            [
             0.1111111111111111,
             "#46039f"
            ],
            [
             0.2222222222222222,
             "#7201a8"
            ],
            [
             0.3333333333333333,
             "#9c179e"
            ],
            [
             0.4444444444444444,
             "#bd3786"
            ],
            [
             0.5555555555555556,
             "#d8576b"
            ],
            [
             0.6666666666666666,
             "#ed7953"
            ],
            [
             0.7777777777777778,
             "#fb9f3a"
            ],
            [
             0.8888888888888888,
             "#fdca26"
            ],
            [
             1,
             "#f0f921"
            ]
           ]
          },
          "colorway": [
           "#636efa",
           "#EF553B",
           "#00cc96",
           "#ab63fa",
           "#FFA15A",
           "#19d3f3",
           "#FF6692",
           "#B6E880",
           "#FF97FF",
           "#FECB52"
          ],
          "font": {
           "color": "#2a3f5f"
          },
          "geo": {
           "bgcolor": "white",
           "lakecolor": "white",
           "landcolor": "#E5ECF6",
           "showlakes": true,
           "showland": true,
           "subunitcolor": "white"
          },
          "hoverlabel": {
           "align": "left"
          },
          "hovermode": "closest",
          "mapbox": {
           "style": "light"
          },
          "paper_bgcolor": "white",
          "plot_bgcolor": "#E5ECF6",
          "polar": {
           "angularaxis": {
            "gridcolor": "white",
            "linecolor": "white",
            "ticks": ""
           },
           "bgcolor": "#E5ECF6",
           "radialaxis": {
            "gridcolor": "white",
            "linecolor": "white",
            "ticks": ""
           }
          },
          "scene": {
           "xaxis": {
            "backgroundcolor": "#E5ECF6",
            "gridcolor": "white",
            "gridwidth": 2,
            "linecolor": "white",
            "showbackground": true,
            "ticks": "",
            "zerolinecolor": "white"
           },
           "yaxis": {
            "backgroundcolor": "#E5ECF6",
            "gridcolor": "white",
            "gridwidth": 2,
            "linecolor": "white",
            "showbackground": true,
            "ticks": "",
            "zerolinecolor": "white"
           },
           "zaxis": {
            "backgroundcolor": "#E5ECF6",
            "gridcolor": "white",
            "gridwidth": 2,
            "linecolor": "white",
            "showbackground": true,
            "ticks": "",
            "zerolinecolor": "white"
           }
          },
          "shapedefaults": {
           "line": {
            "color": "#2a3f5f"
           }
          },
          "ternary": {
           "aaxis": {
            "gridcolor": "white",
            "linecolor": "white",
            "ticks": ""
           },
           "baxis": {
            "gridcolor": "white",
            "linecolor": "white",
            "ticks": ""
           },
           "bgcolor": "#E5ECF6",
           "caxis": {
            "gridcolor": "white",
            "linecolor": "white",
            "ticks": ""
           }
          },
          "title": {
           "x": 0.05
          },
          "xaxis": {
           "automargin": true,
           "gridcolor": "white",
           "linecolor": "white",
           "ticks": "",
           "title": {
            "standoff": 15
           },
           "zerolinecolor": "white",
           "zerolinewidth": 2
          },
          "yaxis": {
           "automargin": true,
           "gridcolor": "white",
           "linecolor": "white",
           "ticks": "",
           "title": {
            "standoff": 15
           },
           "zerolinecolor": "white",
           "zerolinewidth": 2
          }
         }
        },
        "title": {
         "text": "Vendas Totais ao Longo do Tempo por Linha de Produto"
        },
        "xaxis": {
         "anchor": "y",
         "domain": [
          0,
          1
         ],
         "title": {
          "text": "Data"
         }
        },
        "yaxis": {
         "anchor": "x",
         "domain": [
          0,
          1
         ],
         "title": {
          "text": "Total de Vendas"
         }
        }
       }
      }
     },
     "metadata": {},
     "output_type": "display_data"
    }
   ],
   "source": [
    "import pandas as pd\n",
    "import plotly.express as px\n",
    "import plotly.graph_objects as go\n",
    "\n",
    "sales_with_products = pd.merge(df_sales, df_products, on='product_key', how='left')\n",
    "\n",
    "print(\"\\nHead de sales_with_products:\")\n",
    "print(sales_with_products.head())\n",
    "print(f\"Shape: {sales_with_products.shape}\")\n",
    "\n",
    "full_sales_data = pd.merge(sales_with_products, df_customers, on='customer_key', how='left')\n",
    "\n",
    "print(\"\\nHead de full_sales_data:\")\n",
    "print(full_sales_data.head())\n",
    "print(f\"Shape: {full_sales_data.shape}\")\n",
    "\n",
    "\n",
    "sales_time_series = full_sales_data.groupby([pd.Grouper(key='order_date', freq='ME'), 'product_line'])['sales_amount'].sum().reset_index()\n",
    "\n",
    "fig_line_time_series = px.line(\n",
    "    sales_time_series,\n",
    "    x='order_date',\n",
    "    y='sales_amount',\n",
    "    color='product_line',\n",
    "    title='Vendas Totais ao Longo do Tempo por Linha de Produto',\n",
    "    labels={'order_date': 'Data do Pedido', 'sales_amount': 'Total de Vendas', 'product_line': 'Linha de Produto'}\n",
    ")\n",
    "fig_line_time_series.update_layout(xaxis_title=\"Data\", yaxis_title=\"Total de Vendas\")\n",
    "fig_line_time_series.show()\n"
   ]
  },
  {
   "cell_type": "code",
   "execution_count": null,
   "id": "3b07929e",
   "metadata": {},
   "outputs": [
    {
     "data": {
      "text/html": [
       "\n",
       "        <iframe\n",
       "            width=\"100%\"\n",
       "            height=\"650\"\n",
       "            src=\"http://127.0.0.1:8050/\"\n",
       "            frameborder=\"0\"\n",
       "            allowfullscreen\n",
       "            \n",
       "        ></iframe>\n",
       "        "
      ],
      "text/plain": [
       "<IPython.lib.display.IFrame at 0x1e694d191d0>"
      ]
     },
     "metadata": {},
     "output_type": "display_data"
    }
   ],
   "source": [
    "import dash\n",
    "from dash import dcc, html, Input, Output\n",
    "import pandas as pd\n",
    "import plotly.express as px\n",
    "\n",
    "df = full_sales_data.copy()\n",
    "df['order_date'] = pd.to_datetime(df['order_date']) \n",
    "\n",
    "app = dash.Dash(__name__)\n",
    "app.title = \"BI Interativo de Vendas\"\n",
    "\n",
    "app.layout = html.Div([\n",
    "    html.H2(\"💼 Dashboard Interativo de Vendas\", style={'textAlign': 'center'}),\n",
    "\n",
    "    html.Div([\n",
    "        html.Div([\n",
    "            html.Label(\"Selecionar Gênero:\"),\n",
    "            dcc.Dropdown(\n",
    "                id='gender_filter',\n",
    "                options=[{'label': g, 'value': g} for g in sorted(df['gender'].unique())] + [{'label': 'Todos', 'value': 'All'}],\n",
    "                value='All',\n",
    "                clearable=False\n",
    "            )\n",
    "        ], style={'width': '48%', 'display': 'inline-block'}),\n",
    "\n",
    "        html.Div([\n",
    "            html.Label(\"Selecionar País:\"),\n",
    "            dcc.Dropdown(\n",
    "                id='country_filter',\n",
    "                options=[{'label': c, 'value': c} for c in sorted(df['country'].unique())] + [{'label': 'Todos', 'value': 'All'}],\n",
    "                value='All',\n",
    "                clearable=False\n",
    "            )\n",
    "        ], style={'width': '48%', 'float': 'right', 'display': 'inline-block'}),\n",
    "    ], style={'padding': '20px'}),\n",
    "\n",
    "    html.Div([\n",
    "        dcc.Graph(id='bar_chart'),\n",
    "    ], style={'width': '100%', 'display': 'inline-block', 'padding': '0 20'}),\n",
    "\n",
    "    html.Div([\n",
    "        html.Div([\n",
    "            dcc.Graph(id='pie_chart'),\n",
    "        ], style={'width': '49%', 'display': 'inline-block'}),\n",
    "\n",
    "        html.Div([\n",
    "            dcc.Graph(id='timeline_chart'),\n",
    "        ], style={'width': '49%', 'float': 'right', 'display': 'inline-block'}),\n",
    "    ])\n",
    "])\n",
    "\n",
    "@app.callback(\n",
    "    Output('bar_chart', 'figure'),\n",
    "    Output('pie_chart', 'figure'),\n",
    "    Output('timeline_chart', 'figure'),\n",
    "    Input('gender_filter', 'value'),\n",
    "    Input('country_filter', 'value')\n",
    ")\n",
    "def update_charts(selected_gender, selected_country):\n",
    "    \n",
    "    filtered = df.copy()\n",
    "    if selected_gender != 'All':\n",
    "        filtered = filtered[filtered['gender'] == selected_gender]\n",
    "    if selected_country != 'All':\n",
    "        filtered = filtered[filtered['country'] == selected_country]\n",
    "\n",
    "    bar_data = filtered.groupby(['country', 'category'])['sales_amount'].sum().reset_index()\n",
    "    bar_fig = px.bar(\n",
    "        bar_data,\n",
    "        x='country',\n",
    "        y='sales_amount',\n",
    "        color='category',\n",
    "        barmode='group',\n",
    "        title='Total de Vendas por Categoria e País'\n",
    "    )\n",
    "\n",
    "    pie_data = filtered.groupby('gender')['sales_amount'].sum().reset_index()\n",
    "    pie_fig = px.pie(\n",
    "        pie_data,\n",
    "        values='sales_amount',\n",
    "        names='gender',\n",
    "        title='Distribuição de Vendas por Gênero',\n",
    "        hole=0.3\n",
    "    )\n",
    "\n",
    "    time_data = filtered.groupby(filtered['order_date'].dt.to_period('M'))['sales_amount'].sum().reset_index()\n",
    "    time_data['order_date'] = time_data['order_date'].astype(str)\n",
    "    time_fig = px.line(\n",
    "        time_data,\n",
    "        x='order_date',\n",
    "        y='sales_amount',\n",
    "        title='Evolução das Vendas ao Longo do Tempo',\n",
    "        markers=True\n",
    "    )\n",
    "\n",
    "    return bar_fig, pie_fig, time_fig\n",
    "\n",
    "if __name__ == '__main__':\n",
    "    app.run(debug=True)\n"
   ]
  },
  {
   "cell_type": "code",
   "execution_count": 17,
   "id": "c85f74c2",
   "metadata": {},
   "outputs": [
    {
     "name": "stdout",
     "output_type": "stream",
     "text": [
      "\n",
      "Head de 'sales_with_product_info' (após junção):\n",
      "  order_number  product_key  customer_key order_date shipping_date   due_date  \\\n",
      "0      SO43697           20         10769 2010-12-29    2011-01-05 2011-01-10   \n",
      "1      SO43698            9         17390 2010-12-29    2011-01-05 2011-01-10   \n",
      "2      SO43699            9         14864 2010-12-29    2011-01-05 2011-01-10   \n",
      "3      SO43700           41          3502 2010-12-29    2011-01-05 2011-01-10   \n",
      "4      SO43701            9             4 2010-12-29    2011-01-05 2011-01-10   \n",
      "\n",
      "   sales_amount  quantity  sls_price product_number             product_name  \\\n",
      "0          3578         1       3578     BK-R93R-62         Road-150 Red- 62   \n",
      "1          3400         1       3400     BK-M82S-44  Mountain-100 Silver- 44   \n",
      "2          3400         1       3400     BK-M82S-44  Mountain-100 Silver- 44   \n",
      "3           699         1        699     BK-R50B-62       Road-650 Black- 62   \n",
      "4          3400         1       3400     BK-M82S-44  Mountain-100 Silver- 44   \n",
      "\n",
      "   product_cost category     subcategory  \n",
      "0          2171    Bikes      Road Bikes  \n",
      "1          1912    Bikes  Mountain Bikes  \n",
      "2          1912    Bikes  Mountain Bikes  \n",
      "3           487    Bikes      Road Bikes  \n",
      "4          1912    Bikes  Mountain Bikes  \n",
      "Shape: (60398, 14)\n",
      "  product_number             product_name  product_cost  sls_price  quantity\n",
      "0     BK-R93R-62         Road-150 Red- 62          2171       3578         1\n",
      "1     BK-M82S-44  Mountain-100 Silver- 44          1912       3400         1\n",
      "2     BK-M82S-44  Mountain-100 Silver- 44          1912       3400         1\n",
      "3     BK-R50B-62       Road-650 Black- 62           487        699         1\n",
      "4     BK-M82S-44  Mountain-100 Silver- 44          1912       3400         1\n",
      "\n",
      "Head de 'sales_with_product_info' (após cálculo do lucro):\n",
      "  order_number product_number             product_name  sls_price  \\\n",
      "0      SO43697     BK-R93R-62         Road-150 Red- 62       3578   \n",
      "1      SO43698     BK-M82S-44  Mountain-100 Silver- 44       3400   \n",
      "2      SO43699     BK-M82S-44  Mountain-100 Silver- 44       3400   \n",
      "3      SO43700     BK-R50B-62       Road-650 Black- 62        699   \n",
      "4      SO43701     BK-M82S-44  Mountain-100 Silver- 44       3400   \n",
      "\n",
      "   product_cost  quantity  unit_profit  total_profit  \n",
      "0          2171         1         1407          1407  \n",
      "1          1912         1         1488          1488  \n",
      "2          1912         1         1488          1488  \n",
      "3           487         1          212           212  \n",
      "4          1912         1         1488          1488  \n",
      "\n",
      "Lucro Total por Produto (Top 10):\n",
      "   product_number             product_name  total_profit\n",
      "18     BK-M68B-46   Mountain-200 Black- 46        597214\n",
      "17     BK-M68B-42   Mountain-200 Black- 42        594400\n",
      "19     BK-M68S-38  Mountain-200 Silver- 38        584858\n",
      "21     BK-M68S-46  Mountain-200 Silver- 46        566749\n",
      "16     BK-M68B-38   Mountain-200 Black- 38        566190\n",
      "20     BK-M68S-42  Mountain-200 Silver- 42        548408\n",
      "64     BK-R93R-48         Road-150 Red- 48        474159\n",
      "67     BK-R93R-62         Road-150 Red- 62        472752\n",
      "65     BK-R93R-52         Road-150 Red- 52        424914\n",
      "66     BK-R93R-56         Road-150 Red- 56        415065\n"
     ]
    },
    {
     "data": {
      "application/vnd.plotly.v1+json": {
       "config": {
        "plotlyServerURL": "https://plot.ly"
       },
       "data": [
        {
         "customdata": [
          [
           "BK-M68B-46"
          ],
          [
           "BK-M68B-42"
          ],
          [
           "BK-M68S-38"
          ],
          [
           "BK-M68S-46"
          ],
          [
           "BK-M68B-38"
          ],
          [
           "BK-M68S-42"
          ],
          [
           "BK-R93R-48"
          ],
          [
           "BK-R93R-62"
          ],
          [
           "BK-R93R-52"
          ],
          [
           "BK-R93R-56"
          ],
          [
           "BK-R93R-44"
          ],
          [
           "BK-R89B-52"
          ],
          [
           "BK-R89B-48"
          ],
          [
           "BK-R89R-58"
          ],
          [
           "BK-R89B-44"
          ],
          [
           "BK-R89B-58"
          ],
          [
           "BK-T79U-46"
          ],
          [
           "BK-T79Y-46"
          ],
          [
           "BK-R79Y-40"
          ],
          [
           "BK-R89R-48"
          ]
         ],
         "hovertemplate": "Lucro Total=%{x:.2f}<br>Nome do Produto=%{y}<br>product_number=%{customdata[0]}<extra></extra>",
         "legendgroup": "",
         "marker": {
          "color": "#636efa",
          "pattern": {
           "shape": ""
          }
         },
         "name": "",
         "orientation": "h",
         "showlegend": false,
         "textposition": "auto",
         "type": "bar",
         "x": {
          "bdata": "3hwJAOARCQCa7AgA3aUIAK6jCAA4XggALzwHALA2BwDSewYAWVUGAGcIBgAsowMA73kDABR2AwCDKAMAwBUDAKZvAgAIXgIA3FECALhIAgA=",
          "dtype": "i4"
         },
         "xaxis": "x",
         "y": [
          "Mountain-200 Black- 46",
          "Mountain-200 Black- 42",
          "Mountain-200 Silver- 38",
          "Mountain-200 Silver- 46",
          "Mountain-200 Black- 38",
          "Mountain-200 Silver- 42",
          "Road-150 Red- 48",
          "Road-150 Red- 62",
          "Road-150 Red- 52",
          "Road-150 Red- 56",
          "Road-150 Red- 44",
          "Road-250 Black- 52",
          "Road-250 Black- 48",
          "Road-250 Red- 58",
          "Road-250 Black- 44",
          "Road-250 Black- 58",
          "Touring-1000 Blue- 46",
          "Touring-1000 Yellow- 46",
          "Road-350-W Yellow- 40",
          "Road-250 Red- 48"
         ],
         "yaxis": "y"
        }
       ],
       "layout": {
        "barmode": "relative",
        "legend": {
         "tracegroupgap": 0
        },
        "template": {
         "data": {
          "bar": [
           {
            "error_x": {
             "color": "#2a3f5f"
            },
            "error_y": {
             "color": "#2a3f5f"
            },
            "marker": {
             "line": {
              "color": "#E5ECF6",
              "width": 0.5
             },
             "pattern": {
              "fillmode": "overlay",
              "size": 10,
              "solidity": 0.2
             }
            },
            "type": "bar"
           }
          ],
          "barpolar": [
           {
            "marker": {
             "line": {
              "color": "#E5ECF6",
              "width": 0.5
             },
             "pattern": {
              "fillmode": "overlay",
              "size": 10,
              "solidity": 0.2
             }
            },
            "type": "barpolar"
           }
          ],
          "carpet": [
           {
            "aaxis": {
             "endlinecolor": "#2a3f5f",
             "gridcolor": "white",
             "linecolor": "white",
             "minorgridcolor": "white",
             "startlinecolor": "#2a3f5f"
            },
            "baxis": {
             "endlinecolor": "#2a3f5f",
             "gridcolor": "white",
             "linecolor": "white",
             "minorgridcolor": "white",
             "startlinecolor": "#2a3f5f"
            },
            "type": "carpet"
           }
          ],
          "choropleth": [
           {
            "colorbar": {
             "outlinewidth": 0,
             "ticks": ""
            },
            "type": "choropleth"
           }
          ],
          "contour": [
           {
            "colorbar": {
             "outlinewidth": 0,
             "ticks": ""
            },
            "colorscale": [
             [
              0,
              "#0d0887"
             ],
             [
              0.1111111111111111,
              "#46039f"
             ],
             [
              0.2222222222222222,
              "#7201a8"
             ],
             [
              0.3333333333333333,
              "#9c179e"
             ],
             [
              0.4444444444444444,
              "#bd3786"
             ],
             [
              0.5555555555555556,
              "#d8576b"
             ],
             [
              0.6666666666666666,
              "#ed7953"
             ],
             [
              0.7777777777777778,
              "#fb9f3a"
             ],
             [
              0.8888888888888888,
              "#fdca26"
             ],
             [
              1,
              "#f0f921"
             ]
            ],
            "type": "contour"
           }
          ],
          "contourcarpet": [
           {
            "colorbar": {
             "outlinewidth": 0,
             "ticks": ""
            },
            "type": "contourcarpet"
           }
          ],
          "heatmap": [
           {
            "colorbar": {
             "outlinewidth": 0,
             "ticks": ""
            },
            "colorscale": [
             [
              0,
              "#0d0887"
             ],
             [
              0.1111111111111111,
              "#46039f"
             ],
             [
              0.2222222222222222,
              "#7201a8"
             ],
             [
              0.3333333333333333,
              "#9c179e"
             ],
             [
              0.4444444444444444,
              "#bd3786"
             ],
             [
              0.5555555555555556,
              "#d8576b"
             ],
             [
              0.6666666666666666,
              "#ed7953"
             ],
             [
              0.7777777777777778,
              "#fb9f3a"
             ],
             [
              0.8888888888888888,
              "#fdca26"
             ],
             [
              1,
              "#f0f921"
             ]
            ],
            "type": "heatmap"
           }
          ],
          "histogram": [
           {
            "marker": {
             "pattern": {
              "fillmode": "overlay",
              "size": 10,
              "solidity": 0.2
             }
            },
            "type": "histogram"
           }
          ],
          "histogram2d": [
           {
            "colorbar": {
             "outlinewidth": 0,
             "ticks": ""
            },
            "colorscale": [
             [
              0,
              "#0d0887"
             ],
             [
              0.1111111111111111,
              "#46039f"
             ],
             [
              0.2222222222222222,
              "#7201a8"
             ],
             [
              0.3333333333333333,
              "#9c179e"
             ],
             [
              0.4444444444444444,
              "#bd3786"
             ],
             [
              0.5555555555555556,
              "#d8576b"
             ],
             [
              0.6666666666666666,
              "#ed7953"
             ],
             [
              0.7777777777777778,
              "#fb9f3a"
             ],
             [
              0.8888888888888888,
              "#fdca26"
             ],
             [
              1,
              "#f0f921"
             ]
            ],
            "type": "histogram2d"
           }
          ],
          "histogram2dcontour": [
           {
            "colorbar": {
             "outlinewidth": 0,
             "ticks": ""
            },
            "colorscale": [
             [
              0,
              "#0d0887"
             ],
             [
              0.1111111111111111,
              "#46039f"
             ],
             [
              0.2222222222222222,
              "#7201a8"
             ],
             [
              0.3333333333333333,
              "#9c179e"
             ],
             [
              0.4444444444444444,
              "#bd3786"
             ],
             [
              0.5555555555555556,
              "#d8576b"
             ],
             [
              0.6666666666666666,
              "#ed7953"
             ],
             [
              0.7777777777777778,
              "#fb9f3a"
             ],
             [
              0.8888888888888888,
              "#fdca26"
             ],
             [
              1,
              "#f0f921"
             ]
            ],
            "type": "histogram2dcontour"
           }
          ],
          "mesh3d": [
           {
            "colorbar": {
             "outlinewidth": 0,
             "ticks": ""
            },
            "type": "mesh3d"
           }
          ],
          "parcoords": [
           {
            "line": {
             "colorbar": {
              "outlinewidth": 0,
              "ticks": ""
             }
            },
            "type": "parcoords"
           }
          ],
          "pie": [
           {
            "automargin": true,
            "type": "pie"
           }
          ],
          "scatter": [
           {
            "fillpattern": {
             "fillmode": "overlay",
             "size": 10,
             "solidity": 0.2
            },
            "type": "scatter"
           }
          ],
          "scatter3d": [
           {
            "line": {
             "colorbar": {
              "outlinewidth": 0,
              "ticks": ""
             }
            },
            "marker": {
             "colorbar": {
              "outlinewidth": 0,
              "ticks": ""
             }
            },
            "type": "scatter3d"
           }
          ],
          "scattercarpet": [
           {
            "marker": {
             "colorbar": {
              "outlinewidth": 0,
              "ticks": ""
             }
            },
            "type": "scattercarpet"
           }
          ],
          "scattergeo": [
           {
            "marker": {
             "colorbar": {
              "outlinewidth": 0,
              "ticks": ""
             }
            },
            "type": "scattergeo"
           }
          ],
          "scattergl": [
           {
            "marker": {
             "colorbar": {
              "outlinewidth": 0,
              "ticks": ""
             }
            },
            "type": "scattergl"
           }
          ],
          "scattermap": [
           {
            "marker": {
             "colorbar": {
              "outlinewidth": 0,
              "ticks": ""
             }
            },
            "type": "scattermap"
           }
          ],
          "scattermapbox": [
           {
            "marker": {
             "colorbar": {
              "outlinewidth": 0,
              "ticks": ""
             }
            },
            "type": "scattermapbox"
           }
          ],
          "scatterpolar": [
           {
            "marker": {
             "colorbar": {
              "outlinewidth": 0,
              "ticks": ""
             }
            },
            "type": "scatterpolar"
           }
          ],
          "scatterpolargl": [
           {
            "marker": {
             "colorbar": {
              "outlinewidth": 0,
              "ticks": ""
             }
            },
            "type": "scatterpolargl"
           }
          ],
          "scatterternary": [
           {
            "marker": {
             "colorbar": {
              "outlinewidth": 0,
              "ticks": ""
             }
            },
            "type": "scatterternary"
           }
          ],
          "surface": [
           {
            "colorbar": {
             "outlinewidth": 0,
             "ticks": ""
            },
            "colorscale": [
             [
              0,
              "#0d0887"
             ],
             [
              0.1111111111111111,
              "#46039f"
             ],
             [
              0.2222222222222222,
              "#7201a8"
             ],
             [
              0.3333333333333333,
              "#9c179e"
             ],
             [
              0.4444444444444444,
              "#bd3786"
             ],
             [
              0.5555555555555556,
              "#d8576b"
             ],
             [
              0.6666666666666666,
              "#ed7953"
             ],
             [
              0.7777777777777778,
              "#fb9f3a"
             ],
             [
              0.8888888888888888,
              "#fdca26"
             ],
             [
              1,
              "#f0f921"
             ]
            ],
            "type": "surface"
           }
          ],
          "table": [
           {
            "cells": {
             "fill": {
              "color": "#EBF0F8"
             },
             "line": {
              "color": "white"
             }
            },
            "header": {
             "fill": {
              "color": "#C8D4E3"
             },
             "line": {
              "color": "white"
             }
            },
            "type": "table"
           }
          ]
         },
         "layout": {
          "annotationdefaults": {
           "arrowcolor": "#2a3f5f",
           "arrowhead": 0,
           "arrowwidth": 1
          },
          "autotypenumbers": "strict",
          "coloraxis": {
           "colorbar": {
            "outlinewidth": 0,
            "ticks": ""
           }
          },
          "colorscale": {
           "diverging": [
            [
             0,
             "#8e0152"
            ],
            [
             0.1,
             "#c51b7d"
            ],
            [
             0.2,
             "#de77ae"
            ],
            [
             0.3,
             "#f1b6da"
            ],
            [
             0.4,
             "#fde0ef"
            ],
            [
             0.5,
             "#f7f7f7"
            ],
            [
             0.6,
             "#e6f5d0"
            ],
            [
             0.7,
             "#b8e186"
            ],
            [
             0.8,
             "#7fbc41"
            ],
            [
             0.9,
             "#4d9221"
            ],
            [
             1,
             "#276419"
            ]
           ],
           "sequential": [
            [
             0,
             "#0d0887"
            ],
            [
             0.1111111111111111,
             "#46039f"
            ],
            [
             0.2222222222222222,
             "#7201a8"
            ],
            [
             0.3333333333333333,
             "#9c179e"
            ],
            [
             0.4444444444444444,
             "#bd3786"
            ],
            [
             0.5555555555555556,
             "#d8576b"
            ],
            [
             0.6666666666666666,
             "#ed7953"
            ],
            [
             0.7777777777777778,
             "#fb9f3a"
            ],
            [
             0.8888888888888888,
             "#fdca26"
            ],
            [
             1,
             "#f0f921"
            ]
           ],
           "sequentialminus": [
            [
             0,
             "#0d0887"
            ],
            [
             0.1111111111111111,
             "#46039f"
            ],
            [
             0.2222222222222222,
             "#7201a8"
            ],
            [
             0.3333333333333333,
             "#9c179e"
            ],
            [
             0.4444444444444444,
             "#bd3786"
            ],
            [
             0.5555555555555556,
             "#d8576b"
            ],
            [
             0.6666666666666666,
             "#ed7953"
            ],
            [
             0.7777777777777778,
             "#fb9f3a"
            ],
            [
             0.8888888888888888,
             "#fdca26"
            ],
            [
             1,
             "#f0f921"
            ]
           ]
          },
          "colorway": [
           "#636efa",
           "#EF553B",
           "#00cc96",
           "#ab63fa",
           "#FFA15A",
           "#19d3f3",
           "#FF6692",
           "#B6E880",
           "#FF97FF",
           "#FECB52"
          ],
          "font": {
           "color": "#2a3f5f"
          },
          "geo": {
           "bgcolor": "white",
           "lakecolor": "white",
           "landcolor": "#E5ECF6",
           "showlakes": true,
           "showland": true,
           "subunitcolor": "white"
          },
          "hoverlabel": {
           "align": "left"
          },
          "hovermode": "closest",
          "mapbox": {
           "style": "light"
          },
          "paper_bgcolor": "white",
          "plot_bgcolor": "#E5ECF6",
          "polar": {
           "angularaxis": {
            "gridcolor": "white",
            "linecolor": "white",
            "ticks": ""
           },
           "bgcolor": "#E5ECF6",
           "radialaxis": {
            "gridcolor": "white",
            "linecolor": "white",
            "ticks": ""
           }
          },
          "scene": {
           "xaxis": {
            "backgroundcolor": "#E5ECF6",
            "gridcolor": "white",
            "gridwidth": 2,
            "linecolor": "white",
            "showbackground": true,
            "ticks": "",
            "zerolinecolor": "white"
           },
           "yaxis": {
            "backgroundcolor": "#E5ECF6",
            "gridcolor": "white",
            "gridwidth": 2,
            "linecolor": "white",
            "showbackground": true,
            "ticks": "",
            "zerolinecolor": "white"
           },
           "zaxis": {
            "backgroundcolor": "#E5ECF6",
            "gridcolor": "white",
            "gridwidth": 2,
            "linecolor": "white",
            "showbackground": true,
            "ticks": "",
            "zerolinecolor": "white"
           }
          },
          "shapedefaults": {
           "line": {
            "color": "#2a3f5f"
           }
          },
          "ternary": {
           "aaxis": {
            "gridcolor": "white",
            "linecolor": "white",
            "ticks": ""
           },
           "baxis": {
            "gridcolor": "white",
            "linecolor": "white",
            "ticks": ""
           },
           "bgcolor": "#E5ECF6",
           "caxis": {
            "gridcolor": "white",
            "linecolor": "white",
            "ticks": ""
           }
          },
          "title": {
           "x": 0.05
          },
          "xaxis": {
           "automargin": true,
           "gridcolor": "white",
           "linecolor": "white",
           "ticks": "",
           "title": {
            "standoff": 15
           },
           "zerolinecolor": "white",
           "zerolinewidth": 2
          },
          "yaxis": {
           "automargin": true,
           "gridcolor": "white",
           "linecolor": "white",
           "ticks": "",
           "title": {
            "standoff": 15
           },
           "zerolinecolor": "white",
           "zerolinewidth": 2
          }
         }
        },
        "title": {
         "text": "Lucro Total por Produto (Top 20)"
        },
        "xaxis": {
         "anchor": "y",
         "domain": [
          0,
          1
         ],
         "title": {
          "text": "Lucro Total"
         }
        },
        "yaxis": {
         "anchor": "x",
         "categoryorder": "total ascending",
         "domain": [
          0,
          1
         ],
         "title": {
          "text": "Nome do Produto"
         }
        }
       }
      }
     },
     "metadata": {},
     "output_type": "display_data"
    },
    {
     "name": "stdout",
     "output_type": "stream",
     "text": [
      "\n",
      "Lucro Total por Categoria de Produto:\n",
      "      category  total_profit\n",
      "1        Bikes      11109565\n",
      "0  Accessories        439510\n",
      "2     Clothing        136682\n"
     ]
    },
    {
     "data": {
      "application/vnd.plotly.v1+json": {
       "config": {
        "plotlyServerURL": "https://plot.ly"
       },
       "data": [
        {
         "hovertemplate": "Categoria do Produto=%{x}<br>Lucro Total=%{y}<extra></extra>",
         "legendgroup": "Bikes",
         "marker": {
          "color": "#636efa",
          "pattern": {
           "shape": ""
          }
         },
         "name": "Bikes",
         "orientation": "v",
         "showlegend": true,
         "textposition": "auto",
         "type": "bar",
         "x": [
          "Bikes"
         ],
         "xaxis": "x",
         "y": {
          "bdata": "vYSpAA==",
          "dtype": "i4"
         },
         "yaxis": "y"
        },
        {
         "hovertemplate": "Categoria do Produto=%{x}<br>Lucro Total=%{y}<extra></extra>",
         "legendgroup": "Accessories",
         "marker": {
          "color": "#EF553B",
          "pattern": {
           "shape": ""
          }
         },
         "name": "Accessories",
         "orientation": "v",
         "showlegend": true,
         "textposition": "auto",
         "type": "bar",
         "x": [
          "Accessories"
         ],
         "xaxis": "x",
         "y": {
          "bdata": "1rQGAA==",
          "dtype": "i4"
         },
         "yaxis": "y"
        },
        {
         "hovertemplate": "Categoria do Produto=%{x}<br>Lucro Total=%{y}<extra></extra>",
         "legendgroup": "Clothing",
         "marker": {
          "color": "#00cc96",
          "pattern": {
           "shape": ""
          }
         },
         "name": "Clothing",
         "orientation": "v",
         "showlegend": true,
         "textposition": "auto",
         "type": "bar",
         "x": [
          "Clothing"
         ],
         "xaxis": "x",
         "y": {
          "bdata": "6hUCAA==",
          "dtype": "i4"
         },
         "yaxis": "y"
        }
       ],
       "layout": {
        "barmode": "relative",
        "legend": {
         "title": {
          "text": "Categoria do Produto"
         },
         "tracegroupgap": 0
        },
        "template": {
         "data": {
          "bar": [
           {
            "error_x": {
             "color": "#2a3f5f"
            },
            "error_y": {
             "color": "#2a3f5f"
            },
            "marker": {
             "line": {
              "color": "#E5ECF6",
              "width": 0.5
             },
             "pattern": {
              "fillmode": "overlay",
              "size": 10,
              "solidity": 0.2
             }
            },
            "type": "bar"
           }
          ],
          "barpolar": [
           {
            "marker": {
             "line": {
              "color": "#E5ECF6",
              "width": 0.5
             },
             "pattern": {
              "fillmode": "overlay",
              "size": 10,
              "solidity": 0.2
             }
            },
            "type": "barpolar"
           }
          ],
          "carpet": [
           {
            "aaxis": {
             "endlinecolor": "#2a3f5f",
             "gridcolor": "white",
             "linecolor": "white",
             "minorgridcolor": "white",
             "startlinecolor": "#2a3f5f"
            },
            "baxis": {
             "endlinecolor": "#2a3f5f",
             "gridcolor": "white",
             "linecolor": "white",
             "minorgridcolor": "white",
             "startlinecolor": "#2a3f5f"
            },
            "type": "carpet"
           }
          ],
          "choropleth": [
           {
            "colorbar": {
             "outlinewidth": 0,
             "ticks": ""
            },
            "type": "choropleth"
           }
          ],
          "contour": [
           {
            "colorbar": {
             "outlinewidth": 0,
             "ticks": ""
            },
            "colorscale": [
             [
              0,
              "#0d0887"
             ],
             [
              0.1111111111111111,
              "#46039f"
             ],
             [
              0.2222222222222222,
              "#7201a8"
             ],
             [
              0.3333333333333333,
              "#9c179e"
             ],
             [
              0.4444444444444444,
              "#bd3786"
             ],
             [
              0.5555555555555556,
              "#d8576b"
             ],
             [
              0.6666666666666666,
              "#ed7953"
             ],
             [
              0.7777777777777778,
              "#fb9f3a"
             ],
             [
              0.8888888888888888,
              "#fdca26"
             ],
             [
              1,
              "#f0f921"
             ]
            ],
            "type": "contour"
           }
          ],
          "contourcarpet": [
           {
            "colorbar": {
             "outlinewidth": 0,
             "ticks": ""
            },
            "type": "contourcarpet"
           }
          ],
          "heatmap": [
           {
            "colorbar": {
             "outlinewidth": 0,
             "ticks": ""
            },
            "colorscale": [
             [
              0,
              "#0d0887"
             ],
             [
              0.1111111111111111,
              "#46039f"
             ],
             [
              0.2222222222222222,
              "#7201a8"
             ],
             [
              0.3333333333333333,
              "#9c179e"
             ],
             [
              0.4444444444444444,
              "#bd3786"
             ],
             [
              0.5555555555555556,
              "#d8576b"
             ],
             [
              0.6666666666666666,
              "#ed7953"
             ],
             [
              0.7777777777777778,
              "#fb9f3a"
             ],
             [
              0.8888888888888888,
              "#fdca26"
             ],
             [
              1,
              "#f0f921"
             ]
            ],
            "type": "heatmap"
           }
          ],
          "histogram": [
           {
            "marker": {
             "pattern": {
              "fillmode": "overlay",
              "size": 10,
              "solidity": 0.2
             }
            },
            "type": "histogram"
           }
          ],
          "histogram2d": [
           {
            "colorbar": {
             "outlinewidth": 0,
             "ticks": ""
            },
            "colorscale": [
             [
              0,
              "#0d0887"
             ],
             [
              0.1111111111111111,
              "#46039f"
             ],
             [
              0.2222222222222222,
              "#7201a8"
             ],
             [
              0.3333333333333333,
              "#9c179e"
             ],
             [
              0.4444444444444444,
              "#bd3786"
             ],
             [
              0.5555555555555556,
              "#d8576b"
             ],
             [
              0.6666666666666666,
              "#ed7953"
             ],
             [
              0.7777777777777778,
              "#fb9f3a"
             ],
             [
              0.8888888888888888,
              "#fdca26"
             ],
             [
              1,
              "#f0f921"
             ]
            ],
            "type": "histogram2d"
           }
          ],
          "histogram2dcontour": [
           {
            "colorbar": {
             "outlinewidth": 0,
             "ticks": ""
            },
            "colorscale": [
             [
              0,
              "#0d0887"
             ],
             [
              0.1111111111111111,
              "#46039f"
             ],
             [
              0.2222222222222222,
              "#7201a8"
             ],
             [
              0.3333333333333333,
              "#9c179e"
             ],
             [
              0.4444444444444444,
              "#bd3786"
             ],
             [
              0.5555555555555556,
              "#d8576b"
             ],
             [
              0.6666666666666666,
              "#ed7953"
             ],
             [
              0.7777777777777778,
              "#fb9f3a"
             ],
             [
              0.8888888888888888,
              "#fdca26"
             ],
             [
              1,
              "#f0f921"
             ]
            ],
            "type": "histogram2dcontour"
           }
          ],
          "mesh3d": [
           {
            "colorbar": {
             "outlinewidth": 0,
             "ticks": ""
            },
            "type": "mesh3d"
           }
          ],
          "parcoords": [
           {
            "line": {
             "colorbar": {
              "outlinewidth": 0,
              "ticks": ""
             }
            },
            "type": "parcoords"
           }
          ],
          "pie": [
           {
            "automargin": true,
            "type": "pie"
           }
          ],
          "scatter": [
           {
            "fillpattern": {
             "fillmode": "overlay",
             "size": 10,
             "solidity": 0.2
            },
            "type": "scatter"
           }
          ],
          "scatter3d": [
           {
            "line": {
             "colorbar": {
              "outlinewidth": 0,
              "ticks": ""
             }
            },
            "marker": {
             "colorbar": {
              "outlinewidth": 0,
              "ticks": ""
             }
            },
            "type": "scatter3d"
           }
          ],
          "scattercarpet": [
           {
            "marker": {
             "colorbar": {
              "outlinewidth": 0,
              "ticks": ""
             }
            },
            "type": "scattercarpet"
           }
          ],
          "scattergeo": [
           {
            "marker": {
             "colorbar": {
              "outlinewidth": 0,
              "ticks": ""
             }
            },
            "type": "scattergeo"
           }
          ],
          "scattergl": [
           {
            "marker": {
             "colorbar": {
              "outlinewidth": 0,
              "ticks": ""
             }
            },
            "type": "scattergl"
           }
          ],
          "scattermap": [
           {
            "marker": {
             "colorbar": {
              "outlinewidth": 0,
              "ticks": ""
             }
            },
            "type": "scattermap"
           }
          ],
          "scattermapbox": [
           {
            "marker": {
             "colorbar": {
              "outlinewidth": 0,
              "ticks": ""
             }
            },
            "type": "scattermapbox"
           }
          ],
          "scatterpolar": [
           {
            "marker": {
             "colorbar": {
              "outlinewidth": 0,
              "ticks": ""
             }
            },
            "type": "scatterpolar"
           }
          ],
          "scatterpolargl": [
           {
            "marker": {
             "colorbar": {
              "outlinewidth": 0,
              "ticks": ""
             }
            },
            "type": "scatterpolargl"
           }
          ],
          "scatterternary": [
           {
            "marker": {
             "colorbar": {
              "outlinewidth": 0,
              "ticks": ""
             }
            },
            "type": "scatterternary"
           }
          ],
          "surface": [
           {
            "colorbar": {
             "outlinewidth": 0,
             "ticks": ""
            },
            "colorscale": [
             [
              0,
              "#0d0887"
             ],
             [
              0.1111111111111111,
              "#46039f"
             ],
             [
              0.2222222222222222,
              "#7201a8"
             ],
             [
              0.3333333333333333,
              "#9c179e"
             ],
             [
              0.4444444444444444,
              "#bd3786"
             ],
             [
              0.5555555555555556,
              "#d8576b"
             ],
             [
              0.6666666666666666,
              "#ed7953"
             ],
             [
              0.7777777777777778,
              "#fb9f3a"
             ],
             [
              0.8888888888888888,
              "#fdca26"
             ],
             [
              1,
              "#f0f921"
             ]
            ],
            "type": "surface"
           }
          ],
          "table": [
           {
            "cells": {
             "fill": {
              "color": "#EBF0F8"
             },
             "line": {
              "color": "white"
             }
            },
            "header": {
             "fill": {
              "color": "#C8D4E3"
             },
             "line": {
              "color": "white"
             }
            },
            "type": "table"
           }
          ]
         },
         "layout": {
          "annotationdefaults": {
           "arrowcolor": "#2a3f5f",
           "arrowhead": 0,
           "arrowwidth": 1
          },
          "autotypenumbers": "strict",
          "coloraxis": {
           "colorbar": {
            "outlinewidth": 0,
            "ticks": ""
           }
          },
          "colorscale": {
           "diverging": [
            [
             0,
             "#8e0152"
            ],
            [
             0.1,
             "#c51b7d"
            ],
            [
             0.2,
             "#de77ae"
            ],
            [
             0.3,
             "#f1b6da"
            ],
            [
             0.4,
             "#fde0ef"
            ],
            [
             0.5,
             "#f7f7f7"
            ],
            [
             0.6,
             "#e6f5d0"
            ],
            [
             0.7,
             "#b8e186"
            ],
            [
             0.8,
             "#7fbc41"
            ],
            [
             0.9,
             "#4d9221"
            ],
            [
             1,
             "#276419"
            ]
           ],
           "sequential": [
            [
             0,
             "#0d0887"
            ],
            [
             0.1111111111111111,
             "#46039f"
            ],
            [
             0.2222222222222222,
             "#7201a8"
            ],
            [
             0.3333333333333333,
             "#9c179e"
            ],
            [
             0.4444444444444444,
             "#bd3786"
            ],
            [
             0.5555555555555556,
             "#d8576b"
            ],
            [
             0.6666666666666666,
             "#ed7953"
            ],
            [
             0.7777777777777778,
             "#fb9f3a"
            ],
            [
             0.8888888888888888,
             "#fdca26"
            ],
            [
             1,
             "#f0f921"
            ]
           ],
           "sequentialminus": [
            [
             0,
             "#0d0887"
            ],
            [
             0.1111111111111111,
             "#46039f"
            ],
            [
             0.2222222222222222,
             "#7201a8"
            ],
            [
             0.3333333333333333,
             "#9c179e"
            ],
            [
             0.4444444444444444,
             "#bd3786"
            ],
            [
             0.5555555555555556,
             "#d8576b"
            ],
            [
             0.6666666666666666,
             "#ed7953"
            ],
            [
             0.7777777777777778,
             "#fb9f3a"
            ],
            [
             0.8888888888888888,
             "#fdca26"
            ],
            [
             1,
             "#f0f921"
            ]
           ]
          },
          "colorway": [
           "#636efa",
           "#EF553B",
           "#00cc96",
           "#ab63fa",
           "#FFA15A",
           "#19d3f3",
           "#FF6692",
           "#B6E880",
           "#FF97FF",
           "#FECB52"
          ],
          "font": {
           "color": "#2a3f5f"
          },
          "geo": {
           "bgcolor": "white",
           "lakecolor": "white",
           "landcolor": "#E5ECF6",
           "showlakes": true,
           "showland": true,
           "subunitcolor": "white"
          },
          "hoverlabel": {
           "align": "left"
          },
          "hovermode": "closest",
          "mapbox": {
           "style": "light"
          },
          "paper_bgcolor": "white",
          "plot_bgcolor": "#E5ECF6",
          "polar": {
           "angularaxis": {
            "gridcolor": "white",
            "linecolor": "white",
            "ticks": ""
           },
           "bgcolor": "#E5ECF6",
           "radialaxis": {
            "gridcolor": "white",
            "linecolor": "white",
            "ticks": ""
           }
          },
          "scene": {
           "xaxis": {
            "backgroundcolor": "#E5ECF6",
            "gridcolor": "white",
            "gridwidth": 2,
            "linecolor": "white",
            "showbackground": true,
            "ticks": "",
            "zerolinecolor": "white"
           },
           "yaxis": {
            "backgroundcolor": "#E5ECF6",
            "gridcolor": "white",
            "gridwidth": 2,
            "linecolor": "white",
            "showbackground": true,
            "ticks": "",
            "zerolinecolor": "white"
           },
           "zaxis": {
            "backgroundcolor": "#E5ECF6",
            "gridcolor": "white",
            "gridwidth": 2,
            "linecolor": "white",
            "showbackground": true,
            "ticks": "",
            "zerolinecolor": "white"
           }
          },
          "shapedefaults": {
           "line": {
            "color": "#2a3f5f"
           }
          },
          "ternary": {
           "aaxis": {
            "gridcolor": "white",
            "linecolor": "white",
            "ticks": ""
           },
           "baxis": {
            "gridcolor": "white",
            "linecolor": "white",
            "ticks": ""
           },
           "bgcolor": "#E5ECF6",
           "caxis": {
            "gridcolor": "white",
            "linecolor": "white",
            "ticks": ""
           }
          },
          "title": {
           "x": 0.05
          },
          "xaxis": {
           "automargin": true,
           "gridcolor": "white",
           "linecolor": "white",
           "ticks": "",
           "title": {
            "standoff": 15
           },
           "zerolinecolor": "white",
           "zerolinewidth": 2
          },
          "yaxis": {
           "automargin": true,
           "gridcolor": "white",
           "linecolor": "white",
           "ticks": "",
           "title": {
            "standoff": 15
           },
           "zerolinecolor": "white",
           "zerolinewidth": 2
          }
         }
        },
        "title": {
         "text": "Lucro Total por Categoria de Produto"
        },
        "xaxis": {
         "anchor": "y",
         "categoryarray": [
          "Bikes",
          "Accessories",
          "Clothing"
         ],
         "categoryorder": "array",
         "domain": [
          0,
          1
         ],
         "title": {
          "text": "Categoria do Produto"
         }
        },
        "yaxis": {
         "anchor": "x",
         "domain": [
          0,
          1
         ],
         "title": {
          "text": "Lucro Total"
         }
        }
       }
      }
     },
     "metadata": {},
     "output_type": "display_data"
    }
   ],
   "source": [
    "# --- 1. Combinar df_sales com df_products para obter o custo do produto e o nome ---\n",
    "# Vamos usar 'product_key' para fazer a junção\n",
    "# Selecionamos apenas as colunas necessárias de df_products para a junção e para o cálculo do lucro\n",
    "sales_with_product_info = pd.merge(\n",
    "    df_sales,\n",
    "    df_products[['product_key', 'product_number', 'product_name', 'product_cost', 'category', 'subcategory']],\n",
    "    on='product_key',\n",
    "    how='left'\n",
    ")\n",
    "\n",
    "print(\"\\nHead de 'sales_with_product_info' (após junção):\")\n",
    "print(sales_with_product_info.head())\n",
    "print(f\"Shape: {sales_with_product_info.shape}\")\n",
    "\n",
    "# Preencha quaisquer NaNs que podem ter surgido do merge (se um product_key não foi encontrado)\n",
    "# Você pode decidir como tratar isso (0, média, mediana, etc.). Para lucro, 0 é seguro para custo/preço.\n",
    "sales_with_product_info.fillna({'product_cost':0}, inplace=True)\n",
    "sales_with_product_info.fillna({'sls_price':0}, inplace=True)\n",
    "sales_with_product_info.fillna({'quantity':0}, inplace=True)\n",
    "\n",
    "\n",
    "print(sales_with_product_info[['product_number', 'product_name', 'product_cost', 'sls_price', 'quantity']].head())\n",
    "# Calcular o lucro unitário (preço de venda - custo)\n",
    "sales_with_product_info['unit_profit'] = sales_with_product_info['sls_price'] - sales_with_product_info['product_cost']\n",
    "\n",
    "# Calcular o lucro total por linha de venda (lucro unitário * quantidade)\n",
    "sales_with_product_info['total_profit'] = sales_with_product_info['unit_profit'] * sales_with_product_info['quantity']\n",
    "\n",
    "print(\"\\nHead de 'sales_with_product_info' (após cálculo do lucro):\")\n",
    "print(sales_with_product_info[['order_number', 'product_number', 'product_name', 'sls_price', 'product_cost', 'quantity', 'unit_profit', 'total_profit']].head())\n",
    "\n",
    "\n",
    "# --- 3. Agrupar o lucro por product_number e product_name ---\n",
    "# Vamos somar o 'total_profit' para cada 'product_number'\n",
    "profit_by_product = sales_with_product_info.groupby(['product_number', 'product_name'])['total_profit'].sum().reset_index()\n",
    "\n",
    "# Ordenar os produtos pelo lucro, do maior para o menor\n",
    "profit_by_product = profit_by_product.sort_values(by='total_profit', ascending=False)\n",
    "\n",
    "print(\"\\nLucro Total por Produto (Top 10):\")\n",
    "print(profit_by_product.head(10))\n",
    "\n",
    "# --- 4. Plotar o Lucro por Product_Number usando Plotly ---\n",
    "\n",
    "# Para um grande número de produtos, um gráfico de barras horizontal é mais legível.\n",
    "# Se tiver muitos produtos, considere plotar apenas o TOP N.\n",
    "top_n = 20 # Número de produtos a exibir\n",
    "profit_to_plot = profit_by_product.head(top_n) if len(profit_by_product) > top_n else profit_by_product\n",
    "\n",
    "fig = px.bar(\n",
    "    profit_to_plot,\n",
    "    x='total_profit',\n",
    "    y='product_name', # Usar o nome do produto no eixo Y para melhor legibilidade\n",
    "    orientation='h', # Barras horizontais\n",
    "    title=f'Lucro Total por Produto (Top {len(profit_to_plot)})',\n",
    "    labels={'total_profit': 'Lucro Total', 'product_name': 'Nome do Produto'},\n",
    "    hover_data={'product_number': True, 'total_profit': ':.2f'} # Mostra o product_number e lucro formatado no hover\n",
    ")\n",
    "\n",
    "# Inverter o eixo Y para que o produto com maior lucro fique no topo\n",
    "fig.update_layout(yaxis={'categoryorder':'total ascending'})\n",
    "\n",
    "fig.show()\n",
    "\n",
    "# --- Análise Adicional: Lucro por Categoria de Produto ---\n",
    "# Também é interessante ver qual categoria de produto gera mais lucro\n",
    "profit_by_category = sales_with_product_info.groupby('category')['total_profit'].sum().reset_index()\n",
    "profit_by_category = profit_by_category.sort_values(by='total_profit', ascending=False)\n",
    "\n",
    "print(\"\\nLucro Total por Categoria de Produto:\")\n",
    "print(profit_by_category)\n",
    "\n",
    "fig_category_profit = px.bar(\n",
    "    profit_by_category,\n",
    "    x='category',\n",
    "    y='total_profit',\n",
    "    title='Lucro Total por Categoria de Produto',\n",
    "    labels={'total_profit': 'Lucro Total', 'category': 'Categoria do Produto'},\n",
    "    color='category' # Cores diferentes para cada categoria\n",
    ")\n",
    "fig_category_profit.show()\n",
    "\n",
    "\n"
   ]
  },
  {
   "cell_type": "code",
   "execution_count": 21,
   "id": "2869b072",
   "metadata": {},
   "outputs": [
    {
     "name": "stdout",
     "output_type": "stream",
     "text": [
      "^C\n"
     ]
    }
   ],
   "source": [
    "!streamlit run app.py\n"
   ]
  }
 ],
 "metadata": {
  "kernelspec": {
   "display_name": "Python 3",
   "language": "python",
   "name": "python3"
  },
  "language_info": {
   "codemirror_mode": {
    "name": "ipython",
    "version": 3
   },
   "file_extension": ".py",
   "mimetype": "text/x-python",
   "name": "python",
   "nbconvert_exporter": "python",
   "pygments_lexer": "ipython3",
   "version": "3.13.5"
  }
 },
 "nbformat": 4,
 "nbformat_minor": 5
}
